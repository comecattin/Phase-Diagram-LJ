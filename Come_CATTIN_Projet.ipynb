{
 "cells": [
  {
   "cell_type": "markdown",
   "id": "28eb4369",
   "metadata": {},
   "source": [
    "# Modélisation d'un système de Lennard-Jones en deux dimensions, calcul de diagramme de phase"
   ]
  },
  {
   "cell_type": "markdown",
   "id": "5a0d3cd4",
   "metadata": {},
   "source": [
    "Côme Cattin, M1 SdM ENS Lyon, 2022"
   ]
  },
  {
   "cell_type": "markdown",
   "id": "0406838f",
   "metadata": {},
   "source": [
    "Code diponible sur GitHub : https://github.com/sequoia-dev/Phase_Diagram_LJ"
   ]
  },
  {
   "cell_type": "markdown",
   "id": "d780fd7c",
   "metadata": {},
   "source": [
    "## Introduction"
   ]
  },
  {
   "cell_type": "markdown",
   "id": "dd28ea8e",
   "metadata": {},
   "source": [
    "Le but de ce projet est de modeliser un système de Lennard-Jones en deux dimensions à différentes températures et densités afin d'obtenir son diagramme de phase. Nous nous sommes basés principalement sur les routines déjà existantes et fournies en cours ansi qu'en TD"
   ]
  },
  {
   "cell_type": "markdown",
   "id": "ea0fb95b",
   "metadata": {},
   "source": [
    "## Le système"
   ]
  },
  {
   "cell_type": "markdown",
   "id": "0e385f42",
   "metadata": {},
   "source": [
    "Le système que nous allons modélisé est un système de Lennard-Jones : les particules le composant sont régies par le potentiel de Lennard-Jones :"
   ]
  },
  {
   "cell_type": "markdown",
   "id": "bda7d5ab",
   "metadata": {},
   "source": [
    "\\begin{equation}\n",
    "U_{LJ}(r) = 4\\epsilon \\left(\\left(\\frac\\sigma{r}\\right)^{12} - \\left(\\frac\\sigma{r}\\right)^6 \\right)\n",
    "\\end{equation}\n",
    "\n",
    "où $\\epsilon = 1$, $\\sigma = 1$ et $r$ est la distance entre deux particules du système."
   ]
  },
  {
   "cell_type": "markdown",
   "id": "d3c49a2f",
   "metadata": {},
   "source": [
    "Nos modelisations porteront, sauf mention contraire, sur un système à 16 particules, en deux dimensions"
   ]
  },
  {
   "cell_type": "code",
   "execution_count": 25,
   "id": "0f5b9f6f",
   "metadata": {},
   "outputs": [],
   "source": [
    "#Dimension\n",
    "d=2\n",
    "#Number of particles\n",
    "NParticles=16\n",
    "\n",
    "# Lennard-Jones\n",
    "sigma = 1\n",
    "epsilon = 1"
   ]
  },
  {
   "cell_type": "markdown",
   "id": "10595b1c",
   "metadata": {},
   "source": [
    "Aussi notre étude est restreinte à une zone particulière du diagramme de phase :\n",
    "\n",
    "\\begin{equation}\n",
    "kT \\in [0.3;1]\\\\\n",
    "\\rho \\in [0.05;0.8]\n",
    "\\end{equation}\n",
    "\n",
    "avec $k$ la constante de Boltzmann, $T$ la température et $\\rho$ la densité."
   ]
  },
  {
   "cell_type": "markdown",
   "id": "46489fc0",
   "metadata": {},
   "source": [
    "## Implémentation"
   ]
  },
  {
   "cell_type": "markdown",
   "id": "054a8f1a",
   "metadata": {},
   "source": [
    "Un certains nombre de bibliothèques sont nécessaire à notre étude"
   ]
  },
  {
   "cell_type": "code",
   "execution_count": 27,
   "id": "3f1ac00d",
   "metadata": {},
   "outputs": [],
   "source": [
    "# Import standard libraries\n",
    "import numpy as np\n",
    "from scipy.special import gamma\n",
    "import matplotlib.pyplot as plt\n",
    "from matplotlib import animation, cm, colors, rc\n",
    "import random\n",
    "import time\n",
    "from imp import reload\n",
    "rc('animation', html='html5')\n",
    "\n",
    "# Import library of our own functions\n",
    "import MPCMolecularDynamics as MD\n",
    "reload(MD)\n",
    "\n",
    "#Include plots into notebook instead of plotting them in extra window\n",
    "%matplotlib inline "
   ]
  },
  {
   "cell_type": "markdown",
   "id": "132abb32",
   "metadata": {},
   "source": [
    "Afin d'établir quantitativement la phase du système, nous avons tout d'abbord décidé de mesurer la compressibilité du système pour chaque zone du diagramme de phase. Nous utilisons pour cela la fonction `Generate_LJ_NVT_MolecularDynamics_Trajectory`"
   ]
  },
  {
   "cell_type": "markdown",
   "id": "661d9b45",
   "metadata": {},
   "source": [
    "**L'entièreté des codes suivants est diponible dans les fichiers `multi_processing.py`et `projet.py`**"
   ]
  },
  {
   "cell_type": "markdown",
   "id": "79122482",
   "metadata": {},
   "source": [
    "## Compressibilité"
   ]
  },
  {
   "cell_type": "markdown",
   "id": "61022213",
   "metadata": {},
   "source": [
    "### Première version, non optimisée"
   ]
  },
  {
   "cell_type": "markdown",
   "id": "901ae264",
   "metadata": {},
   "source": [
    "Une première approche, non pas la plus efficace, est d'estimer la compressibilité à chaque paramètre du système et cela tour à tour, avec  ainsi deux boucles `for`"
   ]
  },
  {
   "cell_type": "code",
   "execution_count": 28,
   "id": "ff5378ba",
   "metadata": {},
   "outputs": [],
   "source": [
    "def phase_diagram_compressibility(d,NParticles,sigma,epsilon,kT,rho):\n",
    "    \"\"\"\n",
    "    'Naive' version of the phase diagram computation.\n",
    "    \n",
    "    Parameters\n",
    "    ----------\n",
    "    d : int\n",
    "        System dimension.\n",
    "    NParticles : int\n",
    "        Number of particles in the system.\n",
    "    sigma : float\n",
    "        Sigma parameter in the LJ system.\n",
    "    epsilon : float\n",
    "        Epsilon parameter in the LJ system.\n",
    "    kT : iterable of float\n",
    "        Temperatures at which the system is to be computed.\n",
    "    rho : iterable of float\n",
    "        Density at which the system is to be computed.\n",
    "    \n",
    "    Returns\n",
    "    ----------\n",
    "    compressibility : array\n",
    "        Compressibility of the system for every couple of rho and kT.\n",
    "    \"\"\"\n",
    "    \n",
    "    #Mass of particles in the system\n",
    "    m = np.ones(NParticles)\n",
    "    \n",
    "    #unit of time \n",
    "    tau = sigma*np.sqrt(m[0]/epsilon)    \n",
    "\n",
    "    # define the length of the trajectory\n",
    "    run_time = 100. * tau\n",
    "    \n",
    "    #Box size\n",
    "    LBox = np.power(NParticles/rho,1./d)\n",
    "    \n",
    "    #Initialization of the compressibility\n",
    "    compressibility = np.zeros((kT.shape[0],LBox.shape[0]))\n",
    "\n",
    "    #For every box length\n",
    "    for i, LBox_i in enumerate(LBox):\n",
    "        #For every temperature\n",
    "        for j, kT_j in enumerate(kT):\n",
    "            \n",
    "            #Get particles trajectories via the routine \n",
    "            ( t_tr, x_tr, y_tr, \n",
    "             vx_tr, vy_tr, \n",
    "             uPot_tr, uKin_tr, \n",
    "             pPot_tr, pKin_tr, \n",
    "             pHyper_tr, \n",
    "             [t,x,y,vx,vy]) = MD.Generate_LJ_NVT_MolecularDynamics_Trajectory(d,m,\n",
    "                                                                              LBox_i,\n",
    "                                                                              kT_j,\n",
    "                                                                              run_time,\n",
    "                                                                              number_of_time_steps_between_stored_configurations=1)\n",
    "            #Compute the compressibility via the routine and store it in an array\n",
    "            compressibility[i,j] = MD.Compressibility_from_pressure_fluctuations_in_NVT(d,m,\n",
    "                                                                                        NParticles,\n",
    "                                                                                        LBox_i,\n",
    "                                                                                        kT_j,\n",
    "                                                                                        pPot_tr, \n",
    "                                                                                        pHyper_tr, \n",
    "                                                                                        pKin_tr)\n",
    "\n",
    "    #Plot\n",
    "    plt.imshow(compressibility,extent=(0.8,0.05,0.3,5),aspect='auto')\n",
    "    cbar = plt.colorbar()\n",
    "    cbar.set_label('Compressibility')\n",
    "    plt.xlabel('$rho$')\n",
    "    plt.ylabel('$kT$')\n",
    "    plt.title('Phase diagram')\n",
    "    #plt.savefig('phase_diagramm.png')\n",
    "    \n",
    "    return compressibility\n",
    "    "
   ]
  },
  {
   "cell_type": "markdown",
   "id": "49089333",
   "metadata": {},
   "source": [
    "Ce programme étant assez peu efficace, nous réduisons la taille du nombre de calcul effectués."
   ]
  },
  {
   "cell_type": "code",
   "execution_count": 29,
   "id": "3ad1a196",
   "metadata": {},
   "outputs": [],
   "source": [
    "#Calcul sur un diagramme de taille (5x5)\n",
    "kT = np.linspace(0.3,1,5)\n",
    "rho  = np.linspace(0.05,0.8,5)/sigma**d"
   ]
  },
  {
   "cell_type": "code",
   "execution_count": 30,
   "id": "58f52788",
   "metadata": {},
   "outputs": [
    {
     "name": "stdout",
     "output_type": "stream",
     "text": [
      "Time to execute :  277.42178160000003\n"
     ]
    },
    {
     "data": {
      "image/png": "[encoded data removed]",
      "text/plain": [
       "<Figure size 432x288 with 2 Axes>"
      ]
     },
     "metadata": {
      "needs_background": "light"
     },
     "output_type": "display_data"
    }
   ],
   "source": [
    "init_time = time.perf_counter()\n",
    "compressibility = phase_diagram_compressibility(d,NParticles,sigma,epsilon,kT,rho)\n",
    "\n",
    "print('Time to execute : ',time.perf_counter()-init_time)"
   ]
  },
  {
   "cell_type": "markdown",
   "id": "99922e74",
   "metadata": {},
   "source": [
    "Nous observons deux choses dans ces résulats :\n",
    "- Déjà le temps de calcul est très long (~4min30sec sur ma machine) pour un diagramme de phase avec seulement une résolution 5x5, un temps laissé à la simulation de `100*tau` et 16 particules. Dans l'optique de réaliser un ensemble de simulations identiques afin d'obtenir une estimation de l'erreur commise nous devons optimiser notre fonction.\n",
    "- Le résultat physique n'est pas convainquant. En effet, des compressibilités négatives sont obtenues. Ensuite, pour certains couple $(rho,kT)$ les valeurs absolues de la compressibilité obtenues sont largement au dessus des autres, \"noyant\" ainsi les résultats.\n",
    "\n",
    "Peut-être ne nous laissons pas suffisement de temps à la simulation et ainsi mesurons nous avant l'état d'équilibre ?\n",
    "\n",
    "Pour le vérifier, nous devons augmenter le temps de simulation, ainsi le temps de calcul. Nous devons alors optimiser de notre fonction."
   ]
  },
  {
   "cell_type": "markdown",
   "id": "73c55321",
   "metadata": {},
   "source": [
    "### Parallelisation"
   ]
  },
  {
   "cell_type": "markdown",
   "id": "dd7c58bf",
   "metadata": {},
   "source": [
    "Notre fonction étant principalement composée de deux boucles `for` imbriquées et chaque résultat de cette boucle étant indépendant des autres, une parallelisation de notre code semble être une bonne solution pour résoudre ce problème de temps de calcul. Pour distribuer sur plusieurs coeurs notre routine, nous utiliserons la bibliothèque `multiprocessing` de Python."
   ]
  },
  {
   "cell_type": "code",
   "execution_count": 31,
   "id": "544c07c8",
   "metadata": {},
   "outputs": [],
   "source": [
    "import multiprocessing as mp\n",
    "#Nous avons également besoin de la bibliothèque itertools\n",
    "#afin d'obtenir l'ensemble des couples de kT et rho possibles\n",
    "import itertools"
   ]
  },
  {
   "cell_type": "markdown",
   "id": "bcb5d22f",
   "metadata": {},
   "source": [
    "De cette bibliothèque, nous utiliserons l'objet `Pool` pour distribuer nos calculs. De cette objet, par soucis de lisibilité de notre code nous utiliserons sa fonction `map`. Pour être plus précis, comme notre fonction principale `Generate_LJ_NVT_MolecularDynamics_Trajectory` recquiert plusieurs paramètres, nous utiliserons la fonction `starmap`. Enfin, comme nous souhaitons concatener tous nos résultats dans un tableau, donc dans l'ordre, nous utiliserons cette fonction en version synchrone."
   ]
  },
  {
   "cell_type": "code",
   "execution_count": 32,
   "id": "2469bb8a",
   "metadata": {},
   "outputs": [],
   "source": [
    "#Nous modifions quelque peu la fonction routine afin que cette dernière soit compatible avec le multiprocessing.\n",
    "\n",
    "def Generate_LJ_NVT_MolecularDynamics_Trajectory(d,m,system,run_time,\n",
    "                                                 starting_configuration=[],\n",
    "                                                 time_step = 0.01,\n",
    "                                                 number_of_time_steps_between_stored_configurations=100,\n",
    "                                                 number_of_time_steps_between_velocity_resets=100,\n",
    "                                                 start_from_stable_grid = False,\n",
    "                                                 debug=False):\n",
    "    \"\"\"\n",
    "    \n",
    "    MODIFIED FUNCTION FOR MULTIPROSSESSING\n",
    "    \n",
    "    \n",
    "    generates a NVT MD simulations of a LJ system with sigma=epsilon=1  \n",
    "        - where the particle masses are specified in the array m\n",
    "        - so that NParticles = m.size\n",
    "        - in a volume V=(LBox,LBox) at a specified temperature kT\n",
    "        - with a time step of time_step tau \n",
    "          where the LJ unit of time is calculated as a function of m[-1], i.e. the mass of the LAST particle\n",
    "        - runs are either started from \n",
    "                a specified starting configuration [t,x,y,vx,vy] or\n",
    "                initialized with zero velocities and particles placed on a square grid\n",
    "        - the simulations are thermostated by redrawing random velocities from the \n",
    "          Maxwell-Boltzmann distribution number_of_time_steps_between_velocity_resets time steps\n",
    "        - the function returns \n",
    "                trajectory lists t_tr, x_tr, y_tr, vx_tr, vy_tr, uPot_tr, uKin_tr, pPot_tr, pKin_tr, pHyper_tr \n",
    "                     of sampling times and sampled coordinates, velocities and energies and pressures\n",
    "                a final configuration [t,x,y,vx,vy] from which the run can be restarted\n",
    "                while the energies and pressures are recorded at every time step, configurations \n",
    "                     and velocities are stored at a time interval of time_between_stored_configurations\n",
    "                    \n",
    "    \"\"\"\n",
    "    #Added this line to make multiprossessing easier\n",
    "    LBox, kT = system\n",
    "    \n",
    "    NParticles = m.size\n",
    "    sigma = 1\n",
    "    epsilon = 1\n",
    "    #unit of time\n",
    "    #tau = sigma*np.sqrt(m[-1]/epsilon)      \n",
    "\n",
    "    # define the length of the trajectory\n",
    "    number_of_timesteps = int(np.round(run_time/time_step))\n",
    "\n",
    "    #starting configuration\n",
    "    if starting_configuration!=[]:\n",
    "        [t,x,y,vx,vy] = starting_configuration\n",
    "    else:\n",
    "        # default initial state\n",
    "        if start_from_stable_grid:\n",
    "            x,y = MD.StableGridPositionsIn2d(LBox,LBox,NParticles)\n",
    "        else:\n",
    "            x,y = MD.GridPositionsIn2d(LBox,LBox,NParticles)\n",
    "        vx = MD.RandomVelocities(m,kT)\n",
    "        vy = MD.RandomVelocities(m,kT)\n",
    "        t = 0\n",
    "        if debug:\n",
    "            print(\"No starting configuration\")\n",
    "\n",
    "    #initialize Trajectory\n",
    "    t_tr = []\n",
    "    x_tr = []\n",
    "    vx_tr = []\n",
    "    y_tr = []\n",
    "    vy_tr = []\n",
    "\n",
    "    fx,fy = MD.LJ_forces_as_a_function_of_positions(d,epsilon,sigma,LBox,(x,y))\n",
    "    # force for initial configuration needed for first time step\n",
    "\n",
    "    for timestep in range(number_of_timesteps):\n",
    "        (x,y),(vx,vy) = MD.VelocityVerletTimeStepPartOne(m,(x,y),(vx,vy),(fx,fy),time_step)\n",
    "        fx,fy = MD.LJ_forces_as_a_function_of_positions(2,epsilon,sigma,LBox,(x,y))\n",
    "        (x,y),(vx,vy) = MD.VelocityVerletTimeStepPartTwo(m,(x,y),(vx,vy),(fx,fy),time_step)\n",
    "        t += time_step\n",
    "        \n",
    "        t_tr.append(t)\n",
    "        x_tr.append(x)\n",
    "        vx_tr.append(vx)\n",
    "        y_tr.append(y)\n",
    "        vy_tr.append(vy)\n",
    "    \n",
    "        # thermostat: reinitialise velocities to control temperature\n",
    "#        if np.mod( timestep*time_step, time_between_velocity_resets ) == 0.0 and timestep>1:\n",
    "        if timestep%number_of_time_steps_between_velocity_resets == 0 and timestep>1:\n",
    "            vx = MD.RandomVelocities(m,kT)\n",
    "            vy = MD.RandomVelocities(m,kT)\n",
    "\n",
    "    # convert trajectory lists to arrays to simplify the data analysis\n",
    "    t_tr = np.array(t_tr)\n",
    "    x_tr = np.array(x_tr)\n",
    "    vx_tr = np.array(vx_tr)\n",
    "    y_tr = np.array(y_tr)\n",
    "    vy_tr = np.array(vy_tr)\n",
    "\n",
    "    # analyse results \n",
    "    uPot_tr = MD.LJ_energy_as_a_function_of_positions(d,epsilon,sigma,LBox,(x_tr,y_tr))\n",
    "    uKin_tr = MD.TotalKineticEnergy(m,vx_tr) + MD.TotalKineticEnergy(m,vy_tr)\n",
    "    pPot_tr = MD.LJ_virial_pressure_as_a_function_of_positions(d,epsilon,sigma,LBox,(x_tr,y_tr)) \n",
    "    pKin_tr = MD.KineticPressure_as_a_function_of_velocities(d,LBox,m,(vx_tr,vy_tr))\n",
    "    pHyper_tr = MD.LJ_hyper_virial_as_a_function_of_positions(d,epsilon,sigma,LBox,(x_tr,y_tr)) \n",
    "    \n",
    "    # reduce the number of stored configurations and velocities\n",
    "#    skip = int(time_between_stored_configurations / delta_t)\n",
    "    skip = number_of_time_steps_between_stored_configurations\n",
    "    x_tr = x_tr[::skip]\n",
    "    y_tr = y_tr[::skip]\n",
    "    vx_tr = vx_tr[::skip]\n",
    "    vy_tr = vy_tr[::skip]    \n",
    "    # note that t_tr is not compressed as it contains the times corresponding to the stored energies and pressures\n",
    "    # as a consequence a corresponding skipping operation needs to be performed, when configurations are plotted \n",
    "    # as a function of time\n",
    "    \n",
    "    return t_tr, x_tr, y_tr, vx_tr, vy_tr, uPot_tr, uKin_tr, pPot_tr, pKin_tr, pHyper_tr, [t,x,y,vx,vy]\n"
   ]
  },
  {
   "cell_type": "markdown",
   "id": "53c9e2ca",
   "metadata": {},
   "source": [
    "Nous définissons une fonction qui va, à chaque nouvelle itération, calculer les résultats que nous souhaitons et concatener ces derniers dans un tableau."
   ]
  },
  {
   "cell_type": "code",
   "execution_count": 33,
   "id": "0f8d3c35",
   "metadata": {},
   "outputs": [],
   "source": [
    "def get_results(d,m,system,run_time,method,ensemble=False,NTrajectories=10):\n",
    "    \"\"\"\n",
    "    The routine that will be executed in each iteration into multiprocessing.\n",
    "    First generate the trajectory via MD LJ, then calculate the compressibility\n",
    "    of the system.\n",
    "    \n",
    "    \n",
    "    Parameters\n",
    "    ----------\n",
    "    d : int\n",
    "        Dimension of the LJ system.\n",
    "    m : array ; size = number of particles\n",
    "        Array of the mass of each particles\n",
    "    system: iterrable\n",
    "         iterrable containnig LBox (length of the box, iterable) \n",
    "         and kT (temperature, iterable) of the system.\n",
    "    run_time : int\n",
    "        How long the simulation will be.\n",
    "    method : str\n",
    "        Method to use\n",
    "    ensemble : bool\n",
    "        True to calculate an ensemble of trajectory; to get the uncertanty on this quantity.\n",
    "    NTrajectories : int\n",
    "        Number of independant trajectories to calculate.\n",
    "        \n",
    "        \n",
    "    Returns\n",
    "    -------\n",
    "    result : Array\n",
    "        Compressibility, MSD, Pressure of the system for every couple of LBox and kT given in\n",
    "        system, depending on the method selected.\n",
    "\n",
    "    \"\"\"\n",
    "    \n",
    "    #Extract data\n",
    "    LBox, kT = system\n",
    "    \n",
    "    \n",
    "    if ensemble :\n",
    "        #Calulate independant trajectories\n",
    "        (t_tr_ens, \n",
    "         x_tr_ens, \n",
    "         y_tr_ens, \n",
    "         vx_tr_ens, \n",
    "         vy_tr_ens, \n",
    "         uPot_tr_ens, \n",
    "         uKin_tr_ens, \n",
    "         pPot_tr_ens, \n",
    "         pKin_tr_ens, \n",
    "         pHyper_tr_ens, \n",
    "         local_list_of_starting_configurations) = Generate_Ensemble_of_LJ_NVT_MolecularDynamics_Trajectories(\n",
    "             d,m,system,NTrajectories,run_time,\n",
    "             number_of_time_steps_between_stored_configurations=1)\n",
    "             \n",
    "    \n",
    "    else :\n",
    "        #Generate trajectories\n",
    "        ( t_tr, x_tr, y_tr, \n",
    "         vx_tr, vy_tr, \n",
    "         uPot_tr, uKin_tr, \n",
    "         pPot_tr, pKin_tr, \n",
    "         pHyper_tr, \n",
    "         [t,x,y,vx,vy]) = Generate_LJ_NVT_MolecularDynamics_Trajectory(d,m,\n",
    "                                                                       system,\n",
    "                                                                       run_time,\n",
    "                                                                       number_of_time_steps_between_stored_configurations=1)\n",
    "    \n",
    "    \n",
    "    if method == 'Compressibility':\n",
    "        #Compute the compressibility\n",
    "        compressibility = MD.Compressibility_from_pressure_fluctuations_in_NVT(d,m,\n",
    "                                                                                    NParticles,\n",
    "                                                                                    LBox,\n",
    "                                                                                    kT,\n",
    "                                                                                    pPot_tr, \n",
    "                                                                                    pHyper_tr, \n",
    "                                                                                    pKin_tr)\n",
    "        \n",
    "        return compressibility\n",
    "    \n",
    "    if method == 'MSD':\n",
    "        \n",
    "        #Compute the Mean Square Displacement of independant trajectories\n",
    "        if ensemble:\n",
    "            msd_x_ens = []\n",
    "            msd_y_ens = []\n",
    "            \n",
    "            for i in x_tr_ens:\n",
    "                delta_t , msd_x = MD.MeanSquareDisplacements(t_tr_ens[0,:],i)\n",
    "                msd_x_ens.append(msd_x)\n",
    "                \n",
    "            for i in y_tr_ens:\n",
    "                delta_t , msd_y = MD.MeanSquareDisplacements(t_tr_ens[0,:],i)\n",
    "                msd_y_ens.append(msd_y)\n",
    "                \n",
    "            msd_x_ens= np.array(msd_x_ens)\n",
    "            msd_y_ens = np.array(msd_y_ens)\n",
    "            \n",
    "            msd_tot_ens = (msd_x_ens + msd_y_ens)/2\n",
    "            #Get only when the system is equilibrated\n",
    "            msd_tot_ens = msd_tot_ens[:,:100]\n",
    "            #Do the mean\n",
    "            msd_mean = np.mean(msd_tot_ens)\n",
    "            #Get the standard deviation\n",
    "            msd_std = np.std(msd_tot_ens)\n",
    "            \n",
    "            \n",
    "            return msd_mean , msd_std\n",
    "            \n",
    "        else :\n",
    "            #Compute the mean square displacement\n",
    "            delta_t , msd_x = MD.MeanSquareDisplacements(t_tr, x_tr)\n",
    "            delta_t , msd_y = MD.MeanSquareDisplacements(t_tr, y_tr)\n",
    "        \n",
    "            msd_tot = (msd_x+msd_y)/2\n",
    "        \n",
    "            #Take only when equilibrated\n",
    "            msd_tot = msd_tot[:100]\n",
    "            msd = np.mean(msd_tot)\n",
    "        \n",
    "        \n",
    "            return msd\n",
    "    \n",
    "    if method == 'Pressure':\n",
    "        #Compute the pressure\n",
    "        P = pPot_tr + pKin_tr\n",
    "        \n",
    "        #Take only when equilibrated\n",
    "        P = P[:100]\n",
    "        P = np.mean(P)\n",
    "        \n",
    "        \n",
    "        return P"
   ]
  },
  {
   "cell_type": "markdown",
   "id": "1028b386",
   "metadata": {},
   "source": [
    "Nous définissons finalement une fonction `main` qui va nous permettre de lancer l'ensemble des fonctions définies plus haut de façon paralleles."
   ]
  },
  {
   "cell_type": "code",
   "execution_count": 34,
   "id": "69db97d7",
   "metadata": {},
   "outputs": [],
   "source": [
    "def main(d,NParticles,sigma,epsilon,kT,rho,method,ensemble=False,NTrajectories=10):\n",
    "    \"\"\"\n",
    "    \n",
    "\n",
    "    Parameters\n",
    "    ----------\n",
    "    d : int\n",
    "        Dimension of the LJ system.\n",
    "    NParticles : int\n",
    "        Number of particles in the system\n",
    "    sigma : float\n",
    "        Sigma parameter in the LJ system.\n",
    "    epsilon : float\n",
    "        Epsilon parameter in the LJ system.\n",
    "    kT : iterable of float\n",
    "        Temperatures at which the system is to be computed\n",
    "    rho : iterable of float\n",
    "        Density at which the system is to be computed\n",
    "    method : str\n",
    "        Method used, propertiy to compute\n",
    "    ensemble : bool\n",
    "        True to calculate an ensemble of trajectory; to get the uncertanty on this quantity.\n",
    "    NTrajectories : int\n",
    "        Number of independant trajectories to calculate.\n",
    "\n",
    "    Returns\n",
    "    -------\n",
    "    result : Array\n",
    "        Compressibility, MSD, Pressure of the system for every couple of LBox and kT given in\n",
    "        system, depending on the method selected.\n",
    "\n",
    "    \"\"\"\n",
    "    \n",
    "    #the System\n",
    "    m = np.ones(NParticles)\n",
    "    LBox = np.power(NParticles/rho,1./d)\n",
    "    \n",
    "    #Unit of time\n",
    "    tau = sigma*np.sqrt(m[0]/epsilon)\n",
    "    \n",
    "    # define the length of the trajectory\n",
    "    run_time = 100. * tau\n",
    "    \n",
    "    \n",
    "    #Multiprocessing\n",
    "    #Get the number of cpu\n",
    "    pool = mp.Pool(mp.cpu_count())\n",
    "    #Every possible couple of rho and kT\n",
    "    couple = list(itertools.product(LBox,kT))\n",
    "\n",
    "\n",
    "    if method == 'Compressibility':\n",
    "        #Compute the compressibility\n",
    "        compressibility = pool.starmap(\n",
    "            get_results,\n",
    "            [(d, m, (LBox_i, kT_j), run_time,method,ensemble,NTrajectories) for LBox_i, kT_j in couple]\n",
    "            )\n",
    "    \n",
    "        #End of multiprocessing\n",
    "        pool.close()\n",
    "        \n",
    "        #Convert to np.array for better data analysis\n",
    "        compressibility = np.array(compressibility)\n",
    "        #Reshape to have a square matrix\n",
    "        compressibility = compressibility.reshape((len(rho),len(kT)))\n",
    "        result = compressibility\n",
    "        plot = result\n",
    "    \n",
    "    if method == 'MSD':\n",
    "        #Compute the mean square displacement\n",
    "        msd = pool.starmap(\n",
    "            get_results,\n",
    "            [(d, m, (LBox_i, kT_j), run_time,method,ensemble,NTrajectories) for LBox_i, kT_j in couple]\n",
    "            )\n",
    "        \n",
    "        #End of multiprocessing\n",
    "        pool.close()\n",
    "        \n",
    "        msd = np.array(msd)\n",
    "        \n",
    "        if ensemble:\n",
    "            #Ensemble of independant trajectories\n",
    "            \n",
    "            #The mean\n",
    "            msd_mean = msd[:,0]\n",
    "            #The std\n",
    "            msd_std = msd[:,1]\n",
    "            #Convert to square matrix\n",
    "            msd_mean = msd_mean.reshape((len(rho),len(kT)))\n",
    "            msd_std = msd_std.reshape((len(rho),len(kT)))\n",
    "            \n",
    "            result = (msd_mean,np.sqrt(msd_std))\n",
    "            plot = msd_mean\n",
    "        \n",
    "        \n",
    "        else:\n",
    "            #Only one trajectory\n",
    "            msd = msd.reshape((len(rho),len(kT)))\n",
    "            result = msd\n",
    "            plot = result\n",
    "        \n",
    "    if method == 'Pressure':\n",
    "        #Compute the pressure\n",
    "        P = pool.starmap(\n",
    "            get_results,\n",
    "            [(d, m, (LBox_i, kT_j), run_time,method,ensemble,NTrajectories) for LBox_i, kT_j in couple]\n",
    "            )\n",
    "        \n",
    "        #End of multiprocessing\n",
    "        pool.close()\n",
    "        \n",
    "        P = np.array(P)\n",
    "        #Get a square matrix\n",
    "        P = P.reshape((len(rho),len(kT)))\n",
    "        result = P\n",
    "        plot = result\n",
    "        \n",
    "    \n",
    "    #Plot\n",
    "    \n",
    "    plt.imshow(plot,extent=(0.8,0.05,0.3,5),aspect='auto')\n",
    "    cbar = plt.colorbar()\n",
    "    cbar.set_label(method)\n",
    "    plt.xlabel('rho')\n",
    "    plt.ylabel('kT')\n",
    "    plt.title('Phase diagram')\n",
    "    plt.savefig('phase_diagramm.png')\n",
    "    \n",
    "    return result"
   ]
  },
  {
   "cell_type": "code",
   "execution_count": 35,
   "id": "8454c765",
   "metadata": {},
   "outputs": [
    {
     "name": "stdout",
     "output_type": "stream",
     "text": [
      "Time to execute :  137.45388387399998\n"
     ]
    },
    {
     "data": {
      "image/png": "[encoded data removed]",
      "text/plain": [
       "<Figure size 432x288 with 2 Axes>"
      ]
     },
     "metadata": {
      "needs_background": "light"
     },
     "output_type": "display_data"
    }
   ],
   "source": [
    "#Test of the speed-up\n",
    "init_time = time.perf_counter()\n",
    "\n",
    "compressibility = main(\n",
    "    d,NParticles,sigma,epsilon,kT,rho,method='Compressibility')\n",
    "#Save it to a .npy file\n",
    "#np.save('compressibility.npy',compressibility)\n",
    "\n",
    "print('Time to execute : ',time.perf_counter()-init_time)"
   ]
  },
  {
   "cell_type": "markdown",
   "id": "55d2c795",
   "metadata": {},
   "source": [
    "Avec la parallelisation, nous gagnons un facteur deux en temps de calcul (sur ma machine). Cela va nous permettre d'une part d'effectuer de plus longues simulations afin de tester l'influence du retour à l'état d'équilibre du système. D'autre part, cette optimisation nous permet d'obtenir des diagrammes de phase plus résolu que (5x5)"
   ]
  },
  {
   "cell_type": "code",
   "execution_count": 36,
   "id": "1efaa18f",
   "metadata": {},
   "outputs": [],
   "source": [
    "#To change the length of the calculus please change the line 42 in main() : run_time = 100. * tau"
   ]
  },
  {
   "cell_type": "markdown",
   "id": "72f89482",
   "metadata": {},
   "source": [
    "**L'ensemble des résultats suivants ont été préalablement calculé sur les machines multi-coeur du Centre Blaise Pascal (192 coeurs) afin de réduire le temps de calcul.**"
   ]
  },
  {
   "cell_type": "code",
   "execution_count": 37,
   "id": "94d5c6d1",
   "metadata": {},
   "outputs": [
    {
     "data": {
      "text/plain": [
       "Text(0.5, 1.0, 'Phase diagram')"
      ]
     },
     "execution_count": 37,
     "metadata": {},
     "output_type": "execute_result"
    },
    {
     "data": {
      "image/png": "[encoded data removed]",
      "text/plain": [
       "<Figure size 432x288 with 2 Axes>"
      ]
     },
     "metadata": {
      "needs_background": "light"
     },
     "output_type": "display_data"
    }
   ],
   "source": [
    "#Compressibility calculated on a 5x5 grid during run_time = 10000 * tau\n",
    "compressibility = np.load('t10000_5x5/compressibility.npy')\n",
    "plt.imshow(compressibility,extent=(0.8,0.05,0.3,5),aspect='auto')\n",
    "cbar = plt.colorbar()\n",
    "cbar.set_label('Compressibility')\n",
    "plt.xlabel('$rho$')\n",
    "plt.ylabel('$kT$')\n",
    "plt.title('Phase diagram')\n",
    "#plt.savefig('phase_diagramm.png')"
   ]
  },
  {
   "cell_type": "markdown",
   "id": "b327c20e",
   "metadata": {},
   "source": [
    "Les résultats, bien que nous ayons augmenté d'un facteur 100 le temps laissé à la simulation et augmenté la résolution de notre diagramme de phase, ne sont pas physiquement satisfaisant. Nous continuons de trouver des points avec une compressibilité bien supérieure à leurs voisins.\n",
    "\n",
    "La compressibilité ne semble alors plus une grandeur de choix pour estimer la phase du système. Nous avons donc abandonné cette grandeur au profit du Déplacement Moyen Carré, *Mean Square Displacement, MSD*."
   ]
  },
  {
   "cell_type": "markdown",
   "id": "6db6d05c",
   "metadata": {},
   "source": [
    "## Mean Square Displacement, MSD"
   ]
  },
  {
   "cell_type": "markdown",
   "id": "54944639",
   "metadata": {},
   "source": [
    "### Trajectoire unique"
   ]
  },
  {
   "cell_type": "markdown",
   "id": "244f3e31",
   "metadata": {},
   "source": [
    "Nous avons déjà implémenté, par simplicité, le calcul de MSD dans les fonctions de routine `main()` et `get_results()`. Nous effectuons de nouveaux nos calculs sur une grille (25x25) sur les ordinateurs multi-coeur du CBP avec `run_time = 500 * tau`."
   ]
  },
  {
   "cell_type": "code",
   "execution_count": 38,
   "id": "ae462d29",
   "metadata": {},
   "outputs": [],
   "source": [
    "#Uncomment this code to run it, otherwhise, results are given in the next cell\n",
    "\n",
    "\n",
    "##Get MSD\n",
    "#msd = main(\n",
    "#    d,NParticles,sigma,epsilon,kT,rho,method='MSD')\n",
    "##Save it to a .npy file\n",
    "#np.save('msd.npy',msd)"
   ]
  },
  {
   "cell_type": "code",
   "execution_count": 39,
   "id": "201d1195",
   "metadata": {},
   "outputs": [
    {
     "data": {
      "text/plain": [
       "Text(0.5, 1.0, 'Phase diagram')"
      ]
     },
     "execution_count": 39,
     "metadata": {},
     "output_type": "execute_result"
    },
    {
     "data": {
      "image/png": "[encoded data removed]",
      "text/plain": [
       "<Figure size 432x288 with 2 Axes>"
      ]
     },
     "metadata": {
      "needs_background": "light"
     },
     "output_type": "display_data"
    }
   ],
   "source": [
    "msd = np.load('msd_t500_25x25/msd.npy')\n",
    "plt.imshow(msd,extent=(0.8,0.05,0.3,5),aspect='auto')\n",
    "cbar = plt.colorbar()\n",
    "cbar.set_label('MSD')\n",
    "plt.xlabel('$rho$')\n",
    "plt.ylabel('$kT$')\n",
    "plt.title('Phase diagram')\n",
    "#plt.savefig('phase_diagramm.png')"
   ]
  },
  {
   "cell_type": "markdown",
   "id": "3b8945f7",
   "metadata": {},
   "source": [
    "Ce résultats est obtenue en ~10 min sur la machine `platinum1` du CBP possédant 192 coeurs."
   ]
  },
  {
   "cell_type": "markdown",
   "id": "cb4718bf",
   "metadata": {},
   "source": [
    "Nous obtenons des résulats physiquement convainquants cette fois-ci. En effet, nous observons que le déplacement moyen carré augmente effectivement avec la température et diminue avec la densité. Les zones les plus claires sont ainsi les zones en phase liquide. Les zones les plus foncées sont donc les zones en phase solide du système. \n",
    "\n",
    "Afin de départager les phases solides de liquides,nous pouvons concidérer que le système est solide si il prossède un MSD <= 0.050. Effectivement avec un tel deplacement moyen carré, l'échelle de déplacement des particules est inférieure à leur propre taille, définissant ainsi un solide. On observe toujours des vibrations des particules dans le solide."
   ]
  },
  {
   "cell_type": "markdown",
   "id": "3f10b988",
   "metadata": {},
   "source": [
    "### Estimation de l'erreur *via* un ensemble de trajectoires indépendantes"
   ]
  },
  {
   "cell_type": "markdown",
   "id": "3afdd428",
   "metadata": {},
   "source": [
    "Afin de founir une estimation de l'erreur commise sur nos résultats, nous avons implémenté dans les fonctions de routine parallelisé la possibilité d'obtenir des résultats générés à partir d'un ensemble de trajectoires indépendantes. Pour cela nous utilisons les paramètres `ensemble` et `NTrajectories` des fonctions de routine.\n",
    "\n",
    "Les résultats présentés ont été obtenues sur un ensemble de 10 trajectoires indépendantes de 16 particules chacune, `run_time = 200 * tau` et sur un diagramme de phase de (10x10) points."
   ]
  },
  {
   "cell_type": "code",
   "execution_count": 40,
   "id": "53efbee1",
   "metadata": {},
   "outputs": [],
   "source": [
    "#Uncomment this code to run it, otherwhise, results are given in the next cell\n",
    "\n",
    "##Number of independant trajectories\n",
    "#NTajectories = 10\n",
    "\n",
    "##(10x10) phase diagram\n",
    "kT = np.linspace(0.3,1,10)\n",
    "rho  = np.linspace(0.05,0.8,10)/sigma**d\n",
    "\n",
    "#Get MSD\n",
    "#msd_mean , msd_std = main(\n",
    "#    d,NParticles,sigma,epsilon,kT,rho,method='MSD',ensemble=True,NTrajectories=NTrajectories)\n",
    "\n",
    "##Save it to a .npy file\n",
    "#np.save('msd_mean.npy',msd_mean)\n",
    "#np.save('msd_std.npy',msd_std)"
   ]
  },
  {
   "cell_type": "code",
   "execution_count": 41,
   "id": "049a19da",
   "metadata": {
    "scrolled": true
   },
   "outputs": [
    {
     "data": {
      "text/plain": [
       "Text(0.5, 1.0, 'Phase diagram')"
      ]
     },
     "execution_count": 41,
     "metadata": {},
     "output_type": "execute_result"
    },
    {
     "data": {
      "image/png": "[encoded data removed]",
      "text/plain": [
       "<Figure size 432x288 with 2 Axes>"
      ]
     },
     "metadata": {
      "needs_background": "light"
     },
     "output_type": "display_data"
    }
   ],
   "source": [
    "msd_mean = np.load('msd_ens_t200_10x10_ens10/msd_mean.npy')\n",
    "msd_std = np.load('msd_ens_t200_10x10_ens10/msd_std.npy')/np.sqrt(10)\n",
    "\n",
    "plt.imshow(msd_mean,extent=(0.8,0.05,0.3,5),aspect='auto')\n",
    "cbar = plt.colorbar()\n",
    "cbar.set_label('MSD')\n",
    "plt.xlabel('$rho$')\n",
    "plt.ylabel('$kT$')\n",
    "plt.title('Phase diagram')\n",
    "#plt.savefig('phase_diagramm.png')\n"
   ]
  },
  {
   "cell_type": "code",
   "execution_count": 42,
   "id": "a3f2e8dc",
   "metadata": {},
   "outputs": [
    {
     "data": {
      "image/png": "[encoded data removed]",
      "text/plain": [
       "<Figure size 432x288 with 1 Axes>"
      ]
     },
     "metadata": {
      "needs_background": "light"
     },
     "output_type": "display_data"
    }
   ],
   "source": [
    "for i , kT_i in enumerate(msd_mean):\n",
    "    plt.errorbar(rho,msd_mean[i,:],yerr=msd_std[i,:],label='kT = {:.2f}'.format(kT[i]))\n",
    "    \n",
    "plt.xlabel('$rho$')\n",
    "plt.ylabel('MSD')\n",
    "plt.title(\"Retour à l'équilibre ?\")\n",
    "plt.legend()\n",
    "plt.grid()"
   ]
  },
  {
   "cell_type": "markdown",
   "id": "f01175f0",
   "metadata": {},
   "source": [
    "Ce résultat a été obtenu en ~15min sur la machine `epyc3`, 256 coeurs, du CBP. Nous constatons que les barre d'erreur sont trop grandes pour être suffisement satisfaisantes. Nous lançons donc le même programme en augmentant le temps de simulation : `run_time = 500*tau` et en diminuant le nombre de trajectoires pour réduire le temps de calcul : `NTrajectories = 5`"
   ]
  },
  {
   "cell_type": "code",
   "execution_count": 43,
   "id": "b36c4513",
   "metadata": {},
   "outputs": [
    {
     "data": {
      "text/plain": [
       "Text(0.5, 1.0, 'Phase diagram')"
      ]
     },
     "execution_count": 43,
     "metadata": {},
     "output_type": "execute_result"
    },
    {
     "data": {
      "image/png": "[encoded data removed]",
      "text/plain": [
       "<Figure size 432x288 with 2 Axes>"
      ]
     },
     "metadata": {
      "needs_background": "light"
     },
     "output_type": "display_data"
    }
   ],
   "source": [
    "msd_mean = np.load('msd_ens_t500_10x10_ens5/msd_mean.npy')\n",
    "msd_std = np.load('msd_ens_t500_10x10_ens5/msd_std.npy')/np.sqrt(5)\n",
    "\n",
    "plt.imshow(msd_mean,extent=(0.8,0.05,0.3,5),aspect='auto')\n",
    "cbar = plt.colorbar()\n",
    "cbar.set_label('MSD')\n",
    "plt.xlabel('$rho$')\n",
    "plt.ylabel('$kT$')\n",
    "plt.title('Phase diagram')\n",
    "#plt.savefig('phase_diagramm.png')"
   ]
  },
  {
   "cell_type": "code",
   "execution_count": 44,
   "id": "52460253",
   "metadata": {},
   "outputs": [
    {
     "data": {
      "image/png": "[encoded data removed]",
      "text/plain": [
       "<Figure size 432x288 with 1 Axes>"
      ]
     },
     "metadata": {
      "needs_background": "light"
     },
     "output_type": "display_data"
    }
   ],
   "source": [
    "for i , kT_i in enumerate(msd_mean):\n",
    "    plt.errorbar(rho,msd_mean[i,:],yerr=msd_std[i,:],label='kT = {:.2f}'.format(kT[i]))\n",
    "    \n",
    "plt.xlabel('$rho$')\n",
    "plt.ylabel('MSD')\n",
    "plt.title(\"Retour à l'équilibre ?\")\n",
    "plt.legend()\n",
    "plt.grid()"
   ]
  },
  {
   "cell_type": "markdown",
   "id": "6edf34bc",
   "metadata": {},
   "source": [
    "Ce résultat est obtenue en ~1h30 sur la même machine. Par manque de temps dans la réalisation de ce projet, nous n'avons pas pu lancer plus de calcul afin de réduire les barres d'erreur."
   ]
  },
  {
   "cell_type": "markdown",
   "id": "56b54614",
   "metadata": {},
   "source": [
    "## Conclusion"
   ]
  },
  {
   "cell_type": "markdown",
   "id": "dc009589",
   "metadata": {},
   "source": [
    "Nous avons ainsi optimisé l'automatisation de l'exploration du diagramme de phase du système de Lennard-Jones. Cette optimisation a été réalisé par la parallelisation des taches effectuées. \n",
    "\n",
    "Nos résultats, prométeurs, sont physiquement cohérents lorsque ces derniers reposent sur le MSD. Il reste cependant une erreur importante dans nos résultats. Ces erreurs peuvent être réduites en augmentant le temps de calcul et le nombre de trajectoires indépendantes générées; des temps de calculs plus long sont donc à prévoir pour un tel projet. Une méthode alternative pour estimer l'erreur associée à nos calculs serait d'explorer le diagramme de phase de différentes manière : en diminuant la température, en diminuant la densité... Cela peut-être aiséement mis en place dans nos fonctions de routine avec la méthode `np.flip`. Ces tests ont été effectués mais non présenté dans ce rapport car beaucoup d'entre eux n'ont pas eu le temps de connverger.\n",
    "\n",
    "Aussi, nous avons implémenté dans nos fonctions de routine la possibilité d'obtenir un diagramme de phase reposant non pas sur le MSD ou la compressibilité mais sur la pression. Au vu de peu de temps à notre disposition pour ce projet nous avons préféré ne pas détailler les calculs de cette grandeurs. Cette grandeur peux aussi être étudié dans l'optique d'une fortification de nos résulats."
   ]
  }
 ],
 "metadata": {
  "kernelspec": {
   "display_name": "Python 3 (ipykernel)",
   "language": "python",
   "name": "python3"
  },
  "language_info": {
   "codemirror_mode": {
    "name": "ipython",
    "version": 3
   },
   "file_extension": ".py",
   "mimetype": "text/x-python",
   "name": "python",
   "nbconvert_exporter": "python",
   "pygments_lexer": "ipython3",
   "version": "3.7.9"
  }
 },
 "nbformat": 4,
 "nbformat_minor": 5
}
